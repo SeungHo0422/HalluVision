{
 "cells": [
  {
   "cell_type": "code",
   "execution_count": 1,
   "id": "initial_id",
   "metadata": {
    "ExecuteTime": {
     "end_time": "2025-05-22T19:47:35.525635Z",
     "start_time": "2025-05-22T19:47:35.263424Z"
    },
    "collapsed": true
   },
   "outputs": [],
   "source": [
    "import csv\n",
    "import ujson\n",
    "from collections import defaultdict\n",
    "from sklearn.metrics import precision_score, recall_score, f1_score, precision_recall_fscore_support\n",
    "from rapidfuzz import fuzz"
   ]
  },
  {
   "cell_type": "code",
   "execution_count": 2,
   "id": "6c61e0be71f7207d",
   "metadata": {
    "ExecuteTime": {
     "end_time": "2025-05-22T19:47:35.741015Z",
     "start_time": "2025-05-22T19:47:35.529594Z"
    }
   },
   "outputs": [],
   "source": [
    "# 파일 경로\n",
    "original_path = \"original_ner.json\" # 원문으로부터 CyNER를 통해 추출한 Label\n",
    "llm_qa_data_path_35 = \"gpt_results_250427.json\" # LLM을 통해 QA한 main NER Entity\n",
    "llm_qa_data_path_4o = \"gpt_results_2503.json\"\n",
    "\n",
    "# JSON 로드\n",
    "with open(original_path, \"r\") as f:\n",
    "    original_data = ujson.load(f)\n",
    "with open(llm_qa_data_path_35, \"r\") as f:\n",
    "    llm_qa_data_35 = ujson.load(f)\n",
    "with open(llm_qa_data_path_4o, \"r\") as f:\n",
    "    llm_qa_data_4o = ujson.load(f)"
   ]
  },
  {
   "cell_type": "code",
   "execution_count": 3,
   "id": "f384387ceb928360",
   "metadata": {
    "ExecuteTime": {
     "end_time": "2025-05-22T19:47:35.824154Z",
     "start_time": "2025-05-22T19:47:35.820889Z"
    }
   },
   "outputs": [],
   "source": [
    "# NER 레이블 종류\n",
    "LABELS = [\"Malware\", \"System\", \"Indicator\", \"Vulnerability\", \"Organization\"]\n",
    "\n",
    "# id와 qa_text만 추출하는 딕셔너리 생성\n",
    "id_to_qa_35 = {item[\"id\"]: item[\"qa_text\"] for item in llm_qa_data_35 if \"id\" in item and \"qa_text\" in item}\n",
    "id_to_qa_4o = {item[\"id\"]: item[\"qa_text\"] for item in llm_qa_data_4o if \"id\" in item and \"qa_text\" in item}\n",
    "\n",
    "processed_qa_35, processed_qa_4o = {}, {}"
   ]
  },
  {
   "cell_type": "code",
   "execution_count": 4,
   "id": "5781cc37ba745771",
   "metadata": {
    "ExecuteTime": {
     "end_time": "2025-05-22T19:47:35.841454Z",
     "start_time": "2025-05-22T19:47:35.829548Z"
    }
   },
   "outputs": [],
   "source": [
    "for id_, qa_str in id_to_qa_35.items():\n",
    "    # 중괄호 제거, 양끝 공백 제거 후 ',' 기준으로 split\n",
    "    items = qa_str.strip(\"{} \").split(',')\n",
    "    # 각 항목에서 양끝 공백 제거\n",
    "    items = [item.strip() for item in items if item.strip()]\n",
    "    processed_qa_35[id_] = items\n",
    "\n",
    "for id_, qa_str in id_to_qa_4o.items():\n",
    "    # 중괄호 제거, 양끝 공백 제거 후',' 기준으로 split\n",
    "    items = qa_str.strip(\"{} \").split(',')\n",
    "    # 각 항목에서 양끝 공백 제거\n",
    "    items = [item.strip() for item in items if item.strip()]\n",
    "    processed_qa_4o[id_] = items"
   ]
  },
  {
   "cell_type": "code",
   "execution_count": 5,
   "id": "79ffc5683456ba2f",
   "metadata": {
    "ExecuteTime": {
     "end_time": "2025-05-22T19:47:35.849282Z",
     "start_time": "2025-05-22T19:47:35.847026Z"
    }
   },
   "outputs": [],
   "source": [
    "def parse_ner_string(ner_string, labels):\n",
    "    \"\"\"\n",
    "    예시 입력: \"{LockBit, no answer, FakeUpdates, Evil Corp}\"\n",
    "    출력: {label: entity or 'no answer'}\n",
    "    \"\"\"\n",
    "    ner_string = ner_string.strip(\"{} \")\n",
    "    elements = [element.strip() for element in ner_string.split(\",\")]\n",
    "\n",
    "    # 길이 안 맞으면 그냥 패스 (데이터 불완전할 경우)\n",
    "    if len(elements) != len(labels):\n",
    "        return None\n",
    "\n",
    "    return dict(zip(labels, elements))"
   ]
  },
  {
   "cell_type": "code",
   "execution_count": 6,
   "id": "1e7efb45bdc9221b",
   "metadata": {
    "ExecuteTime": {
     "end_time": "2025-05-22T19:47:35.858138Z",
     "start_time": "2025-05-22T19:47:35.854672Z"
    }
   },
   "outputs": [],
   "source": [
    "def save_failed_predictions(processed_qa, original_ner_dict, output_path=\"failed_cases_general.csv\"):\n",
    "    with open(output_path, \"w\", newline='', encoding=\"utf-8\") as f:\n",
    "        writer = csv.writer(f)\n",
    "        writer.writerow([\"id\", \"label\", \"prediction\", \"gold_entities\", \"match\"])\n",
    "\n",
    "        for id_, pred_entities in processed_qa.items():\n",
    "            ner_entry = original_ner_dict.get(str(id_))\n",
    "            if not ner_entry:\n",
    "                continue\n",
    "\n",
    "            try:\n",
    "                for idx, label in enumerate(LABELS):\n",
    "                    if idx == 2:\n",
    "                        # 현재 label이 indicator이면 vulnerability로 교체\n",
    "                        pred = pred_entities[3]\n",
    "                    elif idx == 3:\n",
    "                        # 현재 label이 vulnerability면 indicator로 교체\n",
    "                        pred = pred_entities[2]\n",
    "                    else:\n",
    "                        pred = pred_entities[idx]\n",
    "                    gold_entities = set(map(str.lower, ner_entry.get(label, [])))\n",
    "\n",
    "                    pred_set = set() if pred.lower() == \"no answer\" else {pred.lower()}\n",
    "                    match = bool(pred_set & gold_entities)\n",
    "\n",
    "                    if not match and gold_entities:\n",
    "                        writer.writerow([id_, label, pred, list(gold_entities), match])\n",
    "            except Exception as e:\n",
    "                print(f\"[SAVE-FAILED-PRED] 문서 번호 : {id_}, 오류 예측 QA : {pred_entities}\")\n",
    "                continue"
   ]
  },
  {
   "cell_type": "code",
   "execution_count": 7,
   "id": "a3b39d62b0b62f99",
   "metadata": {
    "ExecuteTime": {
     "end_time": "2025-05-22T19:47:35.866077Z",
     "start_time": "2025-05-22T19:47:35.863488Z"
    }
   },
   "outputs": [],
   "source": [
    "def token_f1(pred, gold):\n",
    "    pred_tokens = set(pred.lower().split())\n",
    "    gold_tokens = set(gold.lower().split())\n",
    "\n",
    "    tp = len(pred_tokens & gold_tokens)\n",
    "    fp = len(pred_tokens - gold_tokens)\n",
    "    fn = len(gold_tokens - pred_tokens)\n",
    "\n",
    "    precision = tp / (tp + fp) if tp + fp else 0\n",
    "    recall = tp / (tp + fn) if tp + fn else 0\n",
    "    f1 = 2 * precision * recall / (precision + recall) if precision + recall else 0\n",
    "\n",
    "    return precision, recall, f1\n"
   ]
  },
  {
   "cell_type": "code",
   "execution_count": 40,
   "id": "9953fcebd6ee1db1",
   "metadata": {
    "ExecuteTime": {
     "end_time": "2025-05-23T09:24:08.198068Z",
     "start_time": "2025-05-23T09:24:08.185864Z"
    }
   },
   "outputs": [],
   "source": [
    "# 예: processed_qa = {0: ['LockBit', 'no answer', ...], ...}\n",
    "# 예: original_ner = [\"0\": {\"System\": [...], \"Malware\": [...], ...}, \"1\": {...}]\n",
    "def evaluate_qa_vs_ner(processed_qa, original_ner_dict, doc_stats, llm_qa_data_path):\n",
    "    y_true = defaultdict(list)\n",
    "    y_pred = defaultdict(list)\n",
    "\n",
    "    exact_match_counts = defaultdict(int)\n",
    "    fuzzy_match_counts = defaultdict(int)\n",
    "    token_f1_scores = defaultdict(list)\n",
    "    total_counts = defaultdict(int)\n",
    "    total_tp, total_fp, total_fn = 0,0,0\n",
    "\n",
    "    for id_, pred_entities in processed_qa.items():\n",
    "        ner_entry = original_ner_dict.get(str(id_))\n",
    "        if not ner_entry:\n",
    "            continue\n",
    "\n",
    "        # doc_id 문서에서의 true, pred\n",
    "        doc_y_true = []\n",
    "        doc_y_pred = []\n",
    "\n",
    "        try:\n",
    "            for idx, label in enumerate(LABELS):\n",
    "                if idx == 2:\n",
    "                    pred = pred_entities[3]  # swap: Indicator ←→ Vulnerability\n",
    "                elif idx == 3:\n",
    "                    pred = pred_entities[2]\n",
    "                else:\n",
    "                    pred = pred_entities[idx]\n",
    "\n",
    "                gold_entities = set(map(str.lower, ner_entry.get(label, []))) # 각 레이블마다 해당하는 정답 엔티티 리스트를 가져온다.\n",
    "                pred = pred or \"\"\n",
    "                pred_lower = pred.strip().lower()\n",
    "\n",
    "                if pred_lower and pred_lower != \"no answer\":\n",
    "                    pred_set = {pred_lower}\n",
    "                else:\n",
    "                    pred_set = set()\n",
    "\n",
    "                match_exact = False\n",
    "                match_fuzzy = False\n",
    "                best_token_f1 = 0.0\n",
    "\n",
    "                for gold in gold_entities:\n",
    "                    if pred_lower == gold:\n",
    "                        match_exact = True\n",
    "                    if fuzz.ratio(pred_lower, gold) >= 85:\n",
    "                        match_fuzzy = True\n",
    "                    _, _, token_f1_score_val = token_f1(pred, gold)\n",
    "                    best_token_f1 = max(best_token_f1, token_f1_score_val)\n",
    "\n",
    "                # Save binary match for P/R/F1 calc\n",
    "                # 1. 정답 기준 평가 (Recall)\n",
    "                for gold in gold_entities:\n",
    "                    y_true[label].append(1)\n",
    "                    y_pred[label].append(1 if gold in pred_set else 0)\n",
    "                    doc_y_true.append(1)\n",
    "                    doc_y_pred.append(1 if gold in pred_set else 0)\n",
    "                    if gold not in pred_set:\n",
    "                        total_fn += 1\n",
    "                    else:\n",
    "                        total_tp += 1\n",
    "\n",
    "                # 2. 예측 기준 평가 (Precision - FP 반영)\n",
    "                for pred_item in pred_set:\n",
    "                    if pred_item not in gold_entities:\n",
    "                        y_true[label].append(0)\n",
    "                        y_pred[label].append(1)\n",
    "                        doc_y_true.append(0)\n",
    "                        doc_y_pred.append(1)\n",
    "                        total_fp += 1\n",
    "\n",
    "                # Save match metrics\n",
    "                if match_exact:\n",
    "                    exact_match_counts[label] += 1\n",
    "                if match_fuzzy:\n",
    "                    fuzzy_match_counts[label] += 1\n",
    "                token_f1_scores[label].append(best_token_f1)\n",
    "                total_counts[label] += 1\n",
    "\n",
    "                precision, recall, f1, _ = precision_recall_fscore_support(\n",
    "                    doc_y_true, doc_y_pred, average='binary', zero_division=0\n",
    "                )\n",
    "\n",
    "\n",
    "                doc_stats[id_] = {\n",
    "                    'precision': precision,\n",
    "                    'recall': recall,\n",
    "                    'f1': f1,\n",
    "                }\n",
    "\n",
    "\n",
    "        except Exception as e:\n",
    "            print(f\"[오류] 문서 번호: {id_}, 예측 QA: {pred_entities}, 에러: {e}\")\n",
    "            continue\n",
    "\n",
    "    # 결과 출력\n",
    "    print(\"Evaluation Results:\")\n",
    "    print(f\"Original Articles : {len(original_data)}\")\n",
    "    print(f\"LLM QA Articles   : {len(processed_qa)}\\n\")\n",
    "    print(f\"TOTAL TP:{total_tp}, FP:{total_fp}, FN:{total_fn}\")\n",
    "\n",
    "    label_precisions, label_recalls, label_f1s = [], [], []\n",
    "    label_exact_rates, label_fuzzy_rates, label_tokenf1s = [], [], []\n",
    "\n",
    "    for label in LABELS:\n",
    "        p = precision_score(y_true[label], y_pred[label], zero_division=0)\n",
    "        r = recall_score(y_true[label], y_pred[label], zero_division=0)\n",
    "        f1 = f1_score(y_true[label], y_pred[label], zero_division=0)\n",
    "\n",
    "        exact_rate = exact_match_counts[label] / total_counts[label] if total_counts[label] else 0\n",
    "        fuzzy_rate = fuzzy_match_counts[label] / total_counts[label] if total_counts[label] else 0\n",
    "        avg_tokenf1 = sum(token_f1_scores[label]) / len(token_f1_scores[label]) if token_f1_scores[label] else 0\n",
    "\n",
    "        print(f\"{label:15s} | P: {p:.4f} | R: {r:.4f} | F1: {f1:.4f} | EM: {exact_rate:.4f} | Fuzzy: {fuzzy_rate:.4f} | Tok-F1: {avg_tokenf1:.4f} | Count: {total_counts[label]}\")\n",
    "\n",
    "        label_precisions.append(p)\n",
    "        label_recalls.append(r)\n",
    "        label_f1s.append(f1)\n",
    "        label_exact_rates.append(exact_rate)\n",
    "        label_fuzzy_rates.append(fuzzy_rate)\n",
    "        label_tokenf1s.append(avg_tokenf1)\n",
    "\n",
    "    print(f\"\\n{'[전체 평균]':15s} | P: {sum(label_precisions)/len(LABELS):.4f} | R: {sum(label_recalls)/len(LABELS):.4f} | F1: {sum(label_f1s)/len(LABELS):.4f} | EM: {sum(label_exact_rates)/len(LABELS):.4f} | Fuzzy: {sum(label_fuzzy_rates)/len(LABELS):.4f} | Tok-F1: {sum(label_tokenf1s)/len(LABELS):.4f}\")\n",
    "\n",
    "    modelname = '4o' if \"250427\" in llm_qa_data_path else '35'\n",
    "    return modelname, doc_stats"
   ]
  },
  {
   "cell_type": "code",
   "execution_count": null,
   "id": "4fb6e779d29691a9",
   "metadata": {
    "ExecuteTime": {
     "end_time": "2025-05-23T09:24:38.476925Z",
     "start_time": "2025-05-23T09:24:09.191734Z"
    }
   },
   "outputs": [
    {
     "name": "stdout",
     "output_type": "stream",
     "text": [
      "[오류] 문서 번호: 325, 예측 QA: ['Answer 1 : ```BloodyStealer```\\nAnswer 2 : ```Steam```\\nAnswer 3 : ```no answer```\\nAnswer 4 : ```cookies```\\nAnswer 5 : ```Kaspersky```'], 에러: list index out of range\n",
      "[오류] 문서 번호: 382, 예측 QA: ['Answer 1 : ```BloodyStealer```\\nAnswer 2 : ```Steam```\\nAnswer 3 : ```no answer```\\nAnswer 4 : ```cookies```\\nAnswer 5 : ```Kaspersky```'], 에러: list index out of range\n",
      "[오류] 문서 번호: 1368, 예측 QA: ['Answer 1 : ```Ransomware```\\nAnswer 2 : ```Industrial IoT```\\nAnswer 3 : ```no answer```\\nAnswer 4 : ```no answer```\\nAnswer 5 : ```Forrester Research```'], 에러: list index out of range\n",
      "[오류] 문서 번호: 3266, 예측 QA: ['Answer 1 : ```botnet```\\nAnswer 2 : ```no answer```\\nAnswer 3 : ```no answer```\\nAnswer 4 : ```no answer```\\nAnswer 5 : ```Department of Homeland Security```'], 에러: list index out of range\n",
      "[오류] 문서 번호: 3275, 예측 QA: ['Answer 1 : ```botnets```\\nAnswer 2 : ```no answer```\\nAnswer 3 : ```no answer```\\nAnswer 4 : ```no answer```\\nAnswer 5 : ```Department of Homeland Security```'], 에러: list index out of range\n",
      "Evaluation Results:\n",
      "Original Articles : 4940\n",
      "LLM QA Articles   : 4940\n",
      "\n",
      "TOTAL TP:7793, FP:6946, FN:55991\n",
      "Malware         | P: 0.6442 | R: 0.1263 | F1: 0.2112 | EM: 0.4399 | Fuzzy: 0.4484 | Tok-F1: 0.4694 | Count: 4940\n",
      "System          | P: 0.5789 | R: 0.1120 | F1: 0.1877 | EM: 0.3769 | Fuzzy: 0.3911 | Tok-F1: 0.4219 | Count: 4935\n",
      "Indicator       | P: 0.0288 | R: 0.0146 | F1: 0.0194 | EM: 0.0099 | Fuzzy: 0.0243 | Tok-F1: 0.0126 | Count: 4935\n",
      "Vulnerability   | P: 0.1338 | R: 0.0885 | F1: 0.1066 | EM: 0.0490 | Fuzzy: 0.0727 | Tok-F1: 0.0705 | Count: 4935\n",
      "Organization    | P: 0.7475 | R: 0.1452 | F1: 0.2432 | EM: 0.7029 | Fuzzy: 0.7268 | Tok-F1: 0.7543 | Count: 4935\n",
      "\n",
      "[전체 평균]         | P: 0.4266 | R: 0.0973 | F1: 0.1536 | EM: 0.3157 | Fuzzy: 0.3327 | Tok-F1: 0.3457\n",
      "[오류] 문서 번호: 415, 예측 QA: ['```Answer 1: REvil\\nAnswer 2: Servers\\nAnswer 3: Lack of IT resources\\nAnswer 4: Ransom negotiation services\\nAnswer 5: GroupSense```'], 에러: list index out of range\n",
      "[오류] 문서 번호: 427, 예측 QA: ['```Your Answer for Question 1```: REvil\\n```Your Answer for Question 2```: Servers\\n```Your Answer for Question 3```: Lack of IT resources\\n```Your Answer for Question 4```: Dark web\\n```Your Answer for Question 5```: GroupSense'], 에러: list index out of range\n",
      "[오류] 문서 번호: 661, 예측 QA: ['Answer 1 : ProxyLogon\\nAnswer 2 : Microsoft Exchange Server\\nAnswer 3 : CVE-2021-26855', 'CVE-2021-26857', 'CVE-2021-26858', 'CVE-2021-27065\\nAnswer 4 : Webshells\\nAnswer 5 : ESET'], 에러: list index out of range\n",
      "[오류] 문서 번호: 773, 예측 QA: ['```Answer 1 : Magecart\\nAnswer 2 : Online systems\\nAnswer 3 : Patching\\nAnswer 4 : 30 percent of current transactions\\nAnswer 5 : Threatpost```'], 에러: list index out of range\n",
      "Evaluation Results:\n",
      "Original Articles : 4940\n",
      "LLM QA Articles   : 4940\n",
      "\n",
      "TOTAL TP:6321, FP:14172, FN:57448\n",
      "Malware         | P: 0.4799 | R: 0.0956 | F1: 0.1594 | EM: 0.3328 | Fuzzy: 0.3423 | Tok-F1: 0.4139 | Count: 4940\n",
      "System          | P: 0.2799 | R: 0.0740 | F1: 0.1170 | EM: 0.2489 | Fuzzy: 0.2655 | Tok-F1: 0.3718 | Count: 4937\n",
      "Indicator       | P: 0.0083 | R: 0.0101 | F1: 0.0091 | EM: 0.0069 | Fuzzy: 0.0142 | Tok-F1: 0.0112 | Count: 4937\n",
      "Vulnerability   | P: 0.0561 | R: 0.0787 | F1: 0.0655 | EM: 0.0435 | Fuzzy: 0.0701 | Tok-F1: 0.0701 | Count: 4937\n",
      "Organization    | P: 0.6756 | R: 0.1340 | F1: 0.2236 | EM: 0.6481 | Fuzzy: 0.6821 | Tok-F1: 0.7184 | Count: 4936\n",
      "\n",
      "[전체 평균]         | P: 0.2999 | R: 0.0785 | F1: 0.1149 | EM: 0.2561 | Fuzzy: 0.2748 | Tok-F1: 0.3171\n"
     ]
    }
   ],
   "source": [
    "doc_stats_4o, doc_stats_35 = {}, {}\n",
    "modelname_4o, doc_stats_4o = evaluate_qa_vs_ner(processed_qa_4o, original_data, doc_stats_4o, llm_qa_data_4o)\n",
    "modelname_35, doc_stats_35 = evaluate_qa_vs_ner(processed_qa_35, original_data, doc_stats_35, llm_qa_data_35)"
   ]
  },
  {
   "cell_type": "code",
   "execution_count": 14,
   "id": "5c52754314c57713",
   "metadata": {
    "ExecuteTime": {
     "end_time": "2025-05-22T19:50:11.923293Z",
     "start_time": "2025-05-22T19:50:11.919862Z"
    }
   },
   "outputs": [],
   "source": [
    "import pandas as pd\n",
    "def init_dataframe_docs(doc_stats):\n",
    "    df_doc = pd.DataFrame.from_dict(doc_stats, orient='index')\n",
    "    df_doc.index.name = 'doc_id'\n",
    "    df_doc.sort_index(inplace=True)\n",
    "    return df_doc"
   ]
  },
  {
   "cell_type": "code",
   "execution_count": 15,
   "id": "b5349c71564cfd5b",
   "metadata": {
    "ExecuteTime": {
     "end_time": "2025-05-22T19:50:14.223757Z",
     "start_time": "2025-05-22T19:50:14.211828Z"
    }
   },
   "outputs": [],
   "source": [
    "df_doc_4o = init_dataframe_docs(doc_stats_4o)\n",
    "df_doc_35 = init_dataframe_docs(doc_stats_35)"
   ]
  },
  {
   "cell_type": "code",
   "execution_count": 32,
   "id": "a38e555768e92eca",
   "metadata": {
    "ExecuteTime": {
     "end_time": "2025-05-22T20:50:33.504017Z",
     "start_time": "2025-05-22T20:50:33.496937Z"
    }
   },
   "outputs": [],
   "source": [
    "import matplotlib.pyplot as plt\n",
    "import numpy as np\n",
    "\n",
    "def cdf_prec(df_doc_4o, df_doc_35, metric='precision'):\n",
    "    plt.style.use('default')\n",
    "    plt.figure(figsize=(7,5))\n",
    "\n",
    "    prec_val_4o = df_doc_4o[metric].dropna().values\n",
    "    sorted_prec_val_4o = np.sort(prec_val_4o)\n",
    "    cdf = np.arange(1, len(sorted_prec_val_4o)+1) / len(sorted_prec_val_4o)\n",
    "    plt.plot(sorted_prec_val_4o, cdf, label='gpt-4o-mini', color='green')\n",
    "\n",
    "    prec_val_35 = df_doc_35[metric].dropna().values\n",
    "    sorted_prec_val_35 = np.sort(prec_val_35)\n",
    "    cdf = np.arange(1, len(sorted_prec_val_35)+1) / len(sorted_prec_val_35)\n",
    "    plt.plot(sorted_prec_val_35, cdf, label='gpt-3.5-turbo', color='orange')\n",
    "\n",
    "    # 화살표\n",
    "    plt.annotate(\n",
    "        text='better',\n",
    "        xy=(0.75,0.35),\n",
    "        xytext=(0.65,0.45),\n",
    "        xycoords='axes fraction',\n",
    "        textcoords='axes fraction',\n",
    "        arrowprops=dict(arrowstyle='->', color='black', lw=2)\n",
    "    )\n",
    "\n",
    "    plt.xlabel(\"Score\")\n",
    "    plt.ylabel(\"Cumulative Probability\")\n",
    "    plt.grid(True)\n",
    "    plt.legend(loc='lower right')\n",
    "    plt.tight_layout()\n",
    "\n",
    "    plt.savefig(f\"figures/qa_{metric}_cdf.pdf\")\n",
    "    plt.show()\n"
   ]
  },
  {
   "cell_type": "code",
   "execution_count": 33,
   "id": "71f93cb8f960929c",
   "metadata": {
    "ExecuteTime": {
     "end_time": "2025-05-22T20:50:34.037277Z",
     "start_time": "2025-05-22T20:50:33.841280Z"
    }
   },
   "outputs": [
    {
     "data": {
      "image/png": "[encoded data removed]",
      "text/plain": [
       "<Figure size 700x500 with 1 Axes>"
      ]
     },
     "metadata": {},
     "output_type": "display_data"
    },
    {
     "data": {
      "image/png": "[encoded data removed]",
      "text/plain": [
       "<Figure size 700x500 with 1 Axes>"
      ]
     },
     "metadata": {},
     "output_type": "display_data"
    }
   ],
   "source": [
    "cdf_prec(df_doc_4o, df_doc_35, 'precision')\n",
    "cdf_prec(df_doc_4o, df_doc_35, 'recall')"
   ]
  },
  {
   "cell_type": "code",
   "execution_count": null,
   "id": "2370d2674ceb85fc",
   "metadata": {},
   "outputs": [],
   "source": []
  }
 ],
 "metadata": {
  "kernelspec": {
   "display_name": "Python 3",
   "language": "python",
   "name": "python3"
  },
  "language_info": {
   "codemirror_mode": {
    "name": "ipython",
    "version": 2
   },
   "file_extension": ".py",
   "mimetype": "text/x-python",
   "name": "python",
   "nbconvert_exporter": "python",
   "pygments_lexer": "ipython2",
   "version": "2.7.6"
  }
 },
 "nbformat": 4,
 "nbformat_minor": 5
}
